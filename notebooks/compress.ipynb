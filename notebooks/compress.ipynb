{
 "cells": [
  {
   "cell_type": "code",
   "execution_count": 1,
   "metadata": {},
   "outputs": [],
   "source": [
    "import numpy as np\n",
    "from pathlib import Path\n",
    "from PIL import Image\n",
    "import json\n",
    "\n",
    "DATASET = \"2dcubes_grayscale_shapes_imbalanced_scale_1.0_equi_child_noise_allow_collisions_10k_transparent\"\n",
    "# DATASET = \"2dcubes\"\n",
    "\n",
    "DATA_DIR = Path(\"outputs/images\")\n",
    "DATASET_DIR = DATA_DIR / DATASET\n",
    "\n",
    "OUT_DIR = Path(\"outputs/compressed\") / DATASET\n",
    "\n",
    "OUT_DIR.mkdir(parents=True, exist_ok=True)\n",
    "\n",
    "SHUFFLE = True"
   ]
  },
  {
   "cell_type": "code",
   "execution_count": 2,
   "metadata": {},
   "outputs": [],
   "source": [
    "CAUSAL_VARIABLES = [\n",
    "    \"pos_x1\",\n",
    "    \"pos_y1\",\n",
    "    \"pos_x2\",\n",
    "    \"pos_y2\",\n",
    "    \"pos_x3\",\n",
    "    \"pos_y3\",\n",
    "]\n",
    "# NOTE: Index in this list determines value of intervention label\n",
    "INTERVENTIONS = [\"_empty_intervention\"] + CAUSAL_VARIABLES"
   ]
  },
  {
   "cell_type": "code",
   "execution_count": 3,
   "metadata": {},
   "outputs": [
    {
     "data": {
      "text/plain": [
       "['dci_train', 'test', 'train', 'val']"
      ]
     },
     "execution_count": 3,
     "metadata": {},
     "output_type": "execute_result"
    }
   ],
   "source": [
    "tags = [tag.name for tag in sorted(DATASET_DIR.iterdir()) if tag.is_dir()]\n",
    "tags"
   ]
  },
  {
   "cell_type": "code",
   "execution_count": 4,
   "metadata": {},
   "outputs": [],
   "source": [
    "def extract_images(dir):\n",
    "    _imgs = []\n",
    "    for file in sorted((dir / \"data\").iterdir(), key=lambda x: int(x.stem)):\n",
    "        if file.suffix != \".png\":\n",
    "            continue\n",
    "        with Image.open(file) as img:\n",
    "            _imgs.append(np.array(img))\n",
    "    return _imgs"
   ]
  },
  {
   "cell_type": "code",
   "execution_count": 5,
   "metadata": {},
   "outputs": [],
   "source": [
    "def extract_label(dir, intervention_label):\n",
    "    _original_latents = []\n",
    "    _intervention_labels = []\n",
    "    _intervention_masks = []\n",
    "    _epsilon = []\n",
    "    for file in sorted((dir / \"labels\").iterdir(), key=lambda x: int(x.stem)):\n",
    "        if file.suffix != \".json\":\n",
    "            continue\n",
    "        with open(file) as f:\n",
    "            label = json.load(f)\n",
    "            scm_outcomes = label[\"scm_outcomes\"]\n",
    "            scm_noise_values = label[\"scm_noise_values\"]\n",
    "\n",
    "            _original_latents.append(\n",
    "                [scm_outcomes[causal_variable] for causal_variable in CAUSAL_VARIABLES]\n",
    "            )\n",
    "            _epsilon.append(\n",
    "                [scm_noise_values[causal_variable] for causal_variable in CAUSAL_VARIABLES]\n",
    "            )\n",
    "            _intervention_labels.append(intervention_label)\n",
    "            _intervention_masks.append(\n",
    "                [\n",
    "                    True if intervention_label == i else False\n",
    "                    for i in range(1, len(CAUSAL_VARIABLES) + 1)\n",
    "                ]\n",
    "            )\n",
    "\n",
    "    return (\n",
    "        np.array(_original_latents, dtype=np.float32),\n",
    "        np.array(_intervention_labels, dtype=np.uint8),\n",
    "        np.array(_intervention_masks, dtype=bool),\n",
    "        np.array(_epsilon, dtype=np.float32),\n",
    "    )"
   ]
  },
  {
   "cell_type": "code",
   "execution_count": 6,
   "metadata": {},
   "outputs": [
    {
     "name": "stdout",
     "output_type": "stream",
     "text": [
      "(dci_train) Processing batch 4/4\n",
      "(dci_train) Saving...\n",
      "(test) Processing batch 4/4\n",
      "(test) Saving...\n",
      "(train) Processing batch 34/34\n",
      "(train) Saving...\n",
      "(val) Processing batch 4/4\n",
      "(val) Saving...\n"
     ]
    }
   ],
   "source": [
    "for tag in tags:\n",
    "    imgs_original = []\n",
    "    imgs_intervention = []\n",
    "\n",
    "    original_latents_original = []\n",
    "    original_latents_intervention = []\n",
    "\n",
    "    epsilon_original = []\n",
    "    epsilon_intervention = []\n",
    "\n",
    "    intervention_labels = []\n",
    "    intervention_masks = []\n",
    "\n",
    "    DATASET_TAG_DIR = DATASET_DIR / tag\n",
    "\n",
    "    batches = sorted([batch.name for batch in DATASET_TAG_DIR.iterdir() if batch.is_dir()], key=int)\n",
    "    for batch in batches:\n",
    "        print(\n",
    "            f\"\\r({tag}) Processing batch {batch}/{batches[-1]}\",\n",
    "            end=\"\" if batch != batches[-1] else \"\\n\",\n",
    "        )\n",
    "        DATASET_BATCH_DIR = DATASET_TAG_DIR / batch\n",
    "\n",
    "        intervention_dirs = [\n",
    "            intervention_label.name\n",
    "            for intervention_label in sorted(DATASET_BATCH_DIR.iterdir())\n",
    "            if (intervention_label.is_dir())\n",
    "        ]\n",
    "\n",
    "        if sorted(intervention_dirs) != sorted(INTERVENTIONS):\n",
    "            raise ValueError(\n",
    "                f\"Intervention labels {intervention_dirs} do not match causal variables {INTERVENTIONS}\"\n",
    "            )\n",
    "\n",
    "        for intervention in intervention_dirs:\n",
    "            # print(f\"({tag}) Processing {intervention}\")\n",
    "\n",
    "            if INTERVENTIONS.index(intervention) is None:\n",
    "                print(intervention)\n",
    "                raise ValueError(f\"Intervention {intervention} not in {INTERVENTIONS}\")\n",
    "\n",
    "            DATASET_INTERVENTION_DIR = DATASET_BATCH_DIR / intervention\n",
    "            for set in [\"original\", \"counterfactual\"]:\n",
    "                DATASET_SET_DIR = DATASET_INTERVENTION_DIR / set\n",
    "                _imgs = extract_images(DATASET_SET_DIR)\n",
    "                (\n",
    "                    _original_latents,\n",
    "                    _intervention_labels,\n",
    "                    _intervention_mask,\n",
    "                    _epsilon,\n",
    "                ) = extract_label(\n",
    "                    DATASET_SET_DIR, intervention_label=INTERVENTIONS.index(intervention)\n",
    "                )\n",
    "                if set == \"original\":\n",
    "                    imgs_original.extend(_imgs)\n",
    "                    original_latents_original.extend(_original_latents)\n",
    "                    epsilon_original.extend(_epsilon)\n",
    "                elif set == \"counterfactual\":\n",
    "                    imgs_intervention.extend(_imgs)\n",
    "                    original_latents_intervention.extend(_original_latents)\n",
    "                    epsilon_intervention.extend(_epsilon)\n",
    "\n",
    "                    intervention_labels.extend(_intervention_labels)\n",
    "                    intervention_masks.extend(_intervention_mask)\n",
    "\n",
    "    imgs = np.stack([imgs_original, imgs_intervention], axis=1, dtype=np.uint8)\n",
    "    original_latents = np.stack(\n",
    "        [original_latents_original, original_latents_intervention], axis=1, dtype=np.float32\n",
    "    )\n",
    "    intervention_labels = np.array(intervention_labels, dtype=np.uint8)\n",
    "    intervention_masks = np.array(intervention_masks, dtype=bool)\n",
    "    epsilon = np.stack([epsilon_original, epsilon_intervention], axis=1, dtype=np.float32).squeeze()\n",
    "\n",
    "    if SHUFFLE == True:\n",
    "        p = np.random.permutation(len(intervention_labels))\n",
    "        imgs = imgs[p]\n",
    "        original_latents = original_latents[p]\n",
    "        intervention_labels = intervention_labels[p]\n",
    "        intervention_masks = intervention_masks[p]\n",
    "        epsilon = epsilon[p]\n",
    "    print(f\"({tag}) Saving...\")\n",
    "    np.savez_compressed(\n",
    "        OUT_DIR / f\"{tag}.npz\",\n",
    "        imgs=imgs,\n",
    "        original_latents=original_latents,\n",
    "        intervention_labels=intervention_labels,\n",
    "        intervention_masks=intervention_masks,\n",
    "        epsilon=epsilon,\n",
    "    )"
   ]
  },
  {
   "cell_type": "markdown",
   "metadata": {},
   "source": [
    "## Statistics"
   ]
  },
  {
   "cell_type": "code",
   "execution_count": 45,
   "metadata": {},
   "outputs": [],
   "source": [
    "data_parts = []\n",
    "\n",
    "filename = OUT_DIR / f\"train.npz\"\n",
    "data_parts.append(dict(np.load(filename)))\n",
    "data = {k: np.concatenate([data[k] for data in data_parts]) for k in data_parts[0]}"
   ]
  },
  {
   "cell_type": "code",
   "execution_count": 46,
   "metadata": {},
   "outputs": [
    {
     "name": "stdout",
     "output_type": "stream",
     "text": [
      "imgs (10000, 2, 128, 128, 3) uint8\n",
      "original_latents (10000, 2, 6) float32\n",
      "intervention_labels (10000,) uint8\n",
      "intervention_masks (10000, 6) bool\n",
      "epsilon (10000, 2, 6) float32\n"
     ]
    }
   ],
   "source": [
    "# iterate over data\n",
    "for k, v in data.items():\n",
    "    print(k, v.shape, v.dtype)"
   ]
  },
  {
   "cell_type": "code",
   "execution_count": 47,
   "metadata": {},
   "outputs": [
    {
     "data": {
      "text/plain": [
       "(128, 128, 3)"
      ]
     },
     "execution_count": 47,
     "metadata": {},
     "output_type": "execute_result"
    }
   ],
   "source": [
    "data[\"imgs\"][0, 0].shape"
   ]
  },
  {
   "cell_type": "code",
   "execution_count": 48,
   "metadata": {},
   "outputs": [
    {
     "data": {
      "text/plain": [
       "array([0, 1, 2, 3, 4, 5, 6], dtype=uint8)"
      ]
     },
     "execution_count": 48,
     "metadata": {},
     "output_type": "execute_result"
    }
   ],
   "source": [
    "np.unique(data[\"intervention_labels\"])"
   ]
  },
  {
   "cell_type": "code",
   "execution_count": 49,
   "metadata": {},
   "outputs": [
    {
     "data": {
      "text/plain": [
       "array([1445, 1485, 1396, 1396, 1337, 1422, 1519])"
      ]
     },
     "execution_count": 49,
     "metadata": {},
     "output_type": "execute_result"
    }
   ],
   "source": [
    "label_distribution = np.bincount(data[\"intervention_labels\"])\n",
    "label_distribution"
   ]
  },
  {
   "cell_type": "code",
   "execution_count": 50,
   "metadata": {},
   "outputs": [
    {
     "data": {
      "text/plain": [
       "<matplotlib.image.AxesImage at 0x106f826e0>"
      ]
     },
     "execution_count": 50,
     "metadata": {},
     "output_type": "execute_result"
    },
    {
     "data": {
      "image/png": "[encoded data removed]",
      "text/plain": [
       "<Figure size 640x480 with 1 Axes>"
      ]
     },
     "metadata": {},
     "output_type": "display_data"
    }
   ],
   "source": [
    "import matplotlib.pyplot as plt\n",
    "\n",
    "plt.imshow(data[\"imgs\"][2000, 1])"
   ]
  },
  {
   "cell_type": "code",
   "execution_count": 51,
   "metadata": {},
   "outputs": [],
   "source": [
    "d = np.hstack([data[\"imgs\"][:, 0], data[\"imgs\"][:, 1]])"
   ]
  },
  {
   "cell_type": "code",
   "execution_count": 52,
   "metadata": {},
   "outputs": [
    {
     "data": {
      "text/plain": [
       "(array([7.57570794, 7.57323261, 7.57117031]),\n",
       " array([38.25864702, 38.25024621, 38.23980411]))"
      ]
     },
     "execution_count": 52,
     "metadata": {},
     "output_type": "execute_result"
    }
   ],
   "source": [
    "d_mean, d_std = d.mean(axis=(0, 1, 2)), d.std(axis=(0, 1, 2))\n",
    "d_mean, d_std"
   ]
  },
  {
   "cell_type": "code",
   "execution_count": 53,
   "metadata": {},
   "outputs": [
    {
     "data": {
      "text/plain": [
       "(array([0, 0, 0], dtype=uint8), array([227, 227, 227], dtype=uint8))"
      ]
     },
     "execution_count": 53,
     "metadata": {},
     "output_type": "execute_result"
    }
   ],
   "source": [
    "d_min, d_max = d.min(axis=(0, 1, 2)), d.max(axis=(0, 1, 2))\n",
    "d_min, d_max"
   ]
  }
 ],
 "metadata": {
  "kernelspec": {
   "display_name": "causal-images--w8JQbgW-py3.10",
   "language": "python",
   "name": "python3"
  },
  "language_info": {
   "codemirror_mode": {
    "name": "ipython",
    "version": 3
   },
   "file_extension": ".py",
   "mimetype": "text/x-python",
   "name": "python",
   "nbconvert_exporter": "python",
   "pygments_lexer": "ipython3",
   "version": "3.10.1"
  },
  "orig_nbformat": 4
 },
 "nbformat": 4,
 "nbformat_minor": 2
}
